{
 "metadata": {
  "name": "",
  "signature": "sha256:d76fd482964ca246aa83b549a567e12d639a1d365a2a53d8b33c102e0c4b0e07"
 },
 "nbformat": 3,
 "nbformat_minor": 0,
 "worksheets": [
  {
   "cells": [
    {
     "cell_type": "heading",
     "level": 2,
     "metadata": {},
     "source": [
      "Prepare Data"
     ]
    },
    {
     "cell_type": "heading",
     "level": 3,
     "metadata": {},
     "source": [
      "Load the dataset"
     ]
    },
    {
     "cell_type": "code",
     "collapsed": false,
     "input": [
      "from sklearn import datasets\n",
      "diabetes = datasets.load_diabetes()"
     ],
     "language": "python",
     "metadata": {},
     "outputs": [],
     "prompt_number": 1
    },
    {
     "cell_type": "heading",
     "level": 3,
     "metadata": {},
     "source": [
      "Use only one input from dataset"
     ]
    },
    {
     "cell_type": "code",
     "collapsed": false,
     "input": [
      "import numpy as np\n",
      "diabetes_X = diabetes.data[:, np.newaxis]\n",
      "diabetes_X_temp = diabetes_X[:, :, 2]"
     ],
     "language": "python",
     "metadata": {},
     "outputs": [],
     "prompt_number": 2
    },
    {
     "cell_type": "heading",
     "level": 3,
     "metadata": {},
     "source": [
      "Split the data into training/test sets"
     ]
    },
    {
     "cell_type": "code",
     "collapsed": false,
     "input": [
      "diabetes_X_train = diabetes_X_temp[:-20]\n",
      "diabetes_X_test = diabetes_X_temp[-20:]\n",
      "\n",
      "# Split the targets into training/testing sets\n",
      "diabetes_y_train = diabetes.target[:-20]\n",
      "diabetes_y_test = diabetes.target[-20:]"
     ],
     "language": "python",
     "metadata": {},
     "outputs": [],
     "prompt_number": 3
    },
    {
     "cell_type": "heading",
     "level": 2,
     "metadata": {},
     "source": [
      "Fit Data"
     ]
    },
    {
     "cell_type": "heading",
     "level": 3,
     "metadata": {},
     "source": [
      "Create models"
     ]
    },
    {
     "cell_type": "code",
     "collapsed": false,
     "input": [
      "from sklearn import linear_model\n",
      "\n",
      "regr = linear_model.LinearRegression()\n",
      "\n",
      "%load_ext autoreload\n",
      "%autoreload 2\n",
      "\n",
      "from pushgp import estimators\n",
      "treegp = estimators.TreeSREstimator()"
     ],
     "language": "python",
     "metadata": {},
     "outputs": [],
     "prompt_number": 4
    },
    {
     "cell_type": "heading",
     "level": 3,
     "metadata": {},
     "source": [
      "Fit data using models"
     ]
    },
    {
     "cell_type": "code",
     "collapsed": false,
     "input": [
      "regr.fit(diabetes_X_train, diabetes_y_train)"
     ],
     "language": "python",
     "metadata": {},
     "outputs": [
      {
       "metadata": {},
       "output_type": "pyout",
       "prompt_number": 8,
       "text": [
        "LinearRegression(copy_X=True, fit_intercept=True, normalize=False)"
       ]
      }
     ],
     "prompt_number": 8
    },
    {
     "cell_type": "code",
     "collapsed": false,
     "input": [
      "treegp.fit(diabetes_X_train, diabetes_y_train, n_iter=5)"
     ],
     "language": "python",
     "metadata": {},
     "outputs": [
      {
       "metadata": {},
       "output_type": "pyout",
       "prompt_number": 7,
       "text": [
        "TreeSREstimator(pop_size=100)"
       ]
      }
     ],
     "prompt_number": 7
    },
    {
     "cell_type": "code",
     "collapsed": false,
     "input": [
      "regr_y_train_predicted = regr.predict(diabetes_X_train)"
     ],
     "language": "python",
     "metadata": {},
     "outputs": [],
     "prompt_number": 19
    },
    {
     "cell_type": "code",
     "collapsed": false,
     "input": [
      "treegp_y_train_predicted = treegp.predict(diabetes_X_train)"
     ],
     "language": "python",
     "metadata": {},
     "outputs": [
      {
       "ename": "TypeError",
       "evalue": "<lambda>() argument after * must be a sequence, not numpy.float64",
       "output_type": "pyerr",
       "traceback": [
        "\u001b[0;31m---------------------------------------------------------------------------\u001b[0m\n\u001b[0;31mTypeError\u001b[0m                                 Traceback (most recent call last)",
        "\u001b[0;32m<ipython-input-20-272aa8c84236>\u001b[0m in \u001b[0;36m<module>\u001b[0;34m()\u001b[0m\n\u001b[0;32m----> 1\u001b[0;31m \u001b[0mtreegp_y_train_predicted\u001b[0m \u001b[0;34m=\u001b[0m \u001b[0mtreegp\u001b[0m\u001b[0;34m.\u001b[0m\u001b[0mpredict\u001b[0m\u001b[0;34m(\u001b[0m\u001b[0mdiabetes_X_train\u001b[0m\u001b[0;34m)\u001b[0m\u001b[0;34m\u001b[0m\u001b[0m\n\u001b[0m",
        "\u001b[0;32m/Users/saul/projects/pushgp.py/pushgp/estimators.py\u001b[0m in \u001b[0;36mpredict\u001b[0;34m(self, X)\u001b[0m\n\u001b[1;32m    125\u001b[0m \u001b[0;34m\u001b[0m\u001b[0m\n\u001b[1;32m    126\u001b[0m     \u001b[0;32mdef\u001b[0m \u001b[0mpredict\u001b[0m\u001b[0;34m(\u001b[0m\u001b[0mself\u001b[0m\u001b[0;34m,\u001b[0m \u001b[0mX\u001b[0m\u001b[0;34m)\u001b[0m\u001b[0;34m:\u001b[0m\u001b[0;34m\u001b[0m\u001b[0m\n\u001b[0;32m--> 127\u001b[0;31m         \u001b[0;32mreturn\u001b[0m \u001b[0mnumpy\u001b[0m\u001b[0;34m.\u001b[0m\u001b[0mvectorize\u001b[0m\u001b[0;34m(\u001b[0m\u001b[0mself\u001b[0m\u001b[0;34m.\u001b[0m\u001b[0mcompile\u001b[0m\u001b[0;34m(\u001b[0m\u001b[0mself\u001b[0m\u001b[0;34m.\u001b[0m\u001b[0m_best_ind\u001b[0m\u001b[0;34m)\u001b[0m\u001b[0;34m)\u001b[0m\u001b[0;34m(\u001b[0m\u001b[0mX\u001b[0m\u001b[0;34m)\u001b[0m\u001b[0;34m\u001b[0m\u001b[0m\n\u001b[0m\u001b[1;32m    128\u001b[0m \u001b[0;34m\u001b[0m\u001b[0m\n\u001b[1;32m    129\u001b[0m     \u001b[0;32mdef\u001b[0m \u001b[0mvisualize\u001b[0m\u001b[0;34m(\u001b[0m\u001b[0mself\u001b[0m\u001b[0;34m,\u001b[0m \u001b[0mindividual\u001b[0m\u001b[0;34m)\u001b[0m\u001b[0;34m:\u001b[0m\u001b[0;34m\u001b[0m\u001b[0m\n",
        "\u001b[0;32m/Users/saul/.virtualenvs/pushgp/lib/python3.4/site-packages/numpy/lib/function_base.py\u001b[0m in \u001b[0;36m__call__\u001b[0;34m(self, *args, **kwargs)\u001b[0m\n\u001b[1;32m   1571\u001b[0m             \u001b[0mvargs\u001b[0m\u001b[0;34m.\u001b[0m\u001b[0mextend\u001b[0m\u001b[0;34m(\u001b[0m\u001b[0;34m[\u001b[0m\u001b[0mkwargs\u001b[0m\u001b[0;34m[\u001b[0m\u001b[0m_n\u001b[0m\u001b[0;34m]\u001b[0m \u001b[0;32mfor\u001b[0m \u001b[0m_n\u001b[0m \u001b[0;32min\u001b[0m \u001b[0mnames\u001b[0m\u001b[0;34m]\u001b[0m\u001b[0;34m)\u001b[0m\u001b[0;34m\u001b[0m\u001b[0m\n\u001b[1;32m   1572\u001b[0m \u001b[0;34m\u001b[0m\u001b[0m\n\u001b[0;32m-> 1573\u001b[0;31m         \u001b[0;32mreturn\u001b[0m \u001b[0mself\u001b[0m\u001b[0;34m.\u001b[0m\u001b[0m_vectorize_call\u001b[0m\u001b[0;34m(\u001b[0m\u001b[0mfunc\u001b[0m\u001b[0;34m=\u001b[0m\u001b[0mfunc\u001b[0m\u001b[0;34m,\u001b[0m \u001b[0margs\u001b[0m\u001b[0;34m=\u001b[0m\u001b[0mvargs\u001b[0m\u001b[0;34m)\u001b[0m\u001b[0;34m\u001b[0m\u001b[0m\n\u001b[0m\u001b[1;32m   1574\u001b[0m \u001b[0;34m\u001b[0m\u001b[0m\n\u001b[1;32m   1575\u001b[0m     \u001b[0;32mdef\u001b[0m \u001b[0m_get_ufunc_and_otypes\u001b[0m\u001b[0;34m(\u001b[0m\u001b[0mself\u001b[0m\u001b[0;34m,\u001b[0m \u001b[0mfunc\u001b[0m\u001b[0;34m,\u001b[0m \u001b[0margs\u001b[0m\u001b[0;34m)\u001b[0m\u001b[0;34m:\u001b[0m\u001b[0;34m\u001b[0m\u001b[0m\n",
        "\u001b[0;32m/Users/saul/.virtualenvs/pushgp/lib/python3.4/site-packages/numpy/lib/function_base.py\u001b[0m in \u001b[0;36m_vectorize_call\u001b[0;34m(self, func, args)\u001b[0m\n\u001b[1;32m   1631\u001b[0m             \u001b[0m_res\u001b[0m \u001b[0;34m=\u001b[0m \u001b[0mfunc\u001b[0m\u001b[0;34m(\u001b[0m\u001b[0;34m)\u001b[0m\u001b[0;34m\u001b[0m\u001b[0m\n\u001b[1;32m   1632\u001b[0m         \u001b[0;32melse\u001b[0m\u001b[0;34m:\u001b[0m\u001b[0;34m\u001b[0m\u001b[0m\n\u001b[0;32m-> 1633\u001b[0;31m             \u001b[0mufunc\u001b[0m\u001b[0;34m,\u001b[0m \u001b[0motypes\u001b[0m \u001b[0;34m=\u001b[0m \u001b[0mself\u001b[0m\u001b[0;34m.\u001b[0m\u001b[0m_get_ufunc_and_otypes\u001b[0m\u001b[0;34m(\u001b[0m\u001b[0mfunc\u001b[0m\u001b[0;34m=\u001b[0m\u001b[0mfunc\u001b[0m\u001b[0;34m,\u001b[0m \u001b[0margs\u001b[0m\u001b[0;34m=\u001b[0m\u001b[0margs\u001b[0m\u001b[0;34m)\u001b[0m\u001b[0;34m\u001b[0m\u001b[0m\n\u001b[0m\u001b[1;32m   1634\u001b[0m \u001b[0;34m\u001b[0m\u001b[0m\n\u001b[1;32m   1635\u001b[0m             \u001b[0;31m# Convert args to object arrays first\u001b[0m\u001b[0;34m\u001b[0m\u001b[0;34m\u001b[0m\u001b[0m\n",
        "\u001b[0;32m/Users/saul/.virtualenvs/pushgp/lib/python3.4/site-packages/numpy/lib/function_base.py\u001b[0m in \u001b[0;36m_get_ufunc_and_otypes\u001b[0;34m(self, func, args)\u001b[0m\n\u001b[1;32m   1595\u001b[0m             \u001b[0;31m# arrays (the input values are not checked to ensure this)\u001b[0m\u001b[0;34m\u001b[0m\u001b[0;34m\u001b[0m\u001b[0m\n\u001b[1;32m   1596\u001b[0m             \u001b[0minputs\u001b[0m \u001b[0;34m=\u001b[0m \u001b[0;34m[\u001b[0m\u001b[0masarray\u001b[0m\u001b[0;34m(\u001b[0m\u001b[0m_a\u001b[0m\u001b[0;34m)\u001b[0m\u001b[0;34m.\u001b[0m\u001b[0mflat\u001b[0m\u001b[0;34m[\u001b[0m\u001b[0;36m0\u001b[0m\u001b[0;34m]\u001b[0m \u001b[0;32mfor\u001b[0m \u001b[0m_a\u001b[0m \u001b[0;32min\u001b[0m \u001b[0margs\u001b[0m\u001b[0;34m]\u001b[0m\u001b[0;34m\u001b[0m\u001b[0m\n\u001b[0;32m-> 1597\u001b[0;31m             \u001b[0moutputs\u001b[0m \u001b[0;34m=\u001b[0m \u001b[0mfunc\u001b[0m\u001b[0;34m(\u001b[0m\u001b[0;34m*\u001b[0m\u001b[0minputs\u001b[0m\u001b[0;34m)\u001b[0m\u001b[0;34m\u001b[0m\u001b[0m\n\u001b[0m\u001b[1;32m   1598\u001b[0m \u001b[0;34m\u001b[0m\u001b[0m\n\u001b[1;32m   1599\u001b[0m             \u001b[0;31m# Performance note: profiling indicates that -- for simple functions\u001b[0m\u001b[0;34m\u001b[0m\u001b[0;34m\u001b[0m\u001b[0m\n",
        "\u001b[0;32m/Users/saul/projects/pushgp.py/pushgp/estimators.py\u001b[0m in \u001b[0;36mcompiled_function\u001b[0;34m(inputs)\u001b[0m\n\u001b[1;32m     51\u001b[0m     \u001b[0;32mdef\u001b[0m \u001b[0mcompile\u001b[0m\u001b[0;34m(\u001b[0m\u001b[0mself\u001b[0m\u001b[0;34m,\u001b[0m \u001b[0mindividual\u001b[0m\u001b[0;34m)\u001b[0m\u001b[0;34m:\u001b[0m\u001b[0;34m\u001b[0m\u001b[0m\n\u001b[1;32m     52\u001b[0m         \u001b[0;32mdef\u001b[0m \u001b[0mcompiled_function\u001b[0m\u001b[0;34m(\u001b[0m\u001b[0minputs\u001b[0m\u001b[0;34m)\u001b[0m\u001b[0;34m:\u001b[0m\u001b[0;34m\u001b[0m\u001b[0m\n\u001b[0;32m---> 53\u001b[0;31m             \u001b[0;32mreturn\u001b[0m \u001b[0mgp\u001b[0m\u001b[0;34m.\u001b[0m\u001b[0mcompile\u001b[0m\u001b[0;34m(\u001b[0m\u001b[0mexpr\u001b[0m\u001b[0;34m=\u001b[0m\u001b[0mindividual\u001b[0m\u001b[0;34m,\u001b[0m \u001b[0mpset\u001b[0m\u001b[0;34m=\u001b[0m\u001b[0mself\u001b[0m\u001b[0;34m.\u001b[0m\u001b[0mpset\u001b[0m\u001b[0;34m(\u001b[0m\u001b[0;34m)\u001b[0m\u001b[0;34m)\u001b[0m\u001b[0;34m(\u001b[0m\u001b[0;34m*\u001b[0m\u001b[0minputs\u001b[0m\u001b[0;34m)\u001b[0m\u001b[0;34m\u001b[0m\u001b[0m\n\u001b[0m\u001b[1;32m     54\u001b[0m         \u001b[0;32mreturn\u001b[0m \u001b[0mcompiled_function\u001b[0m\u001b[0;34m\u001b[0m\u001b[0m\n\u001b[1;32m     55\u001b[0m \u001b[0;34m\u001b[0m\u001b[0m\n",
        "\u001b[0;31mTypeError\u001b[0m: <lambda>() argument after * must be a sequence, not numpy.float64"
       ]
      }
     ],
     "prompt_number": 20
    },
    {
     "cell_type": "code",
     "collapsed": false,
     "input": [
      "np.array(list(treegp_y_train_predicted))"
     ],
     "language": "python",
     "metadata": {},
     "outputs": [
      {
       "metadata": {},
       "output_type": "pyout",
       "prompt_number": 18,
       "text": [
        "array([ 3.06169621,  2.94852594,  3.04445121,  2.98840499,  2.96361531,\n",
        "        2.95930406,  2.95283719,  2.99810529,  3.06169621,  3.03906215,\n",
        "        2.91619158,  3.01750591,  2.97115999,  2.99810529,  2.97439343,\n",
        "        2.98193811,  3.04229559,  3.01211685,  2.9894828 ,  2.98193811,\n",
        "        2.94313688,  2.97762686,  2.99594967,  3.06061839,  3.03582872,\n",
        "        2.98732717,  2.92265845,  3.05954058,  2.97870468,  2.99379405,\n",
        "        3.04445121,  2.93451438,  3.12528712,  2.94960375,  2.93667001,\n",
        "        2.96900437,  3.02289497,  3.01103904,  3.07139652,  3.01427248,\n",
        "        2.99163842,  2.93235876,  2.9894828 ,  2.97654905,  3.06816308,\n",
        "        2.96469312,  2.98840499,  2.9269697 ,  2.95822625,  3.01427248,\n",
        "        2.99271623,  3.0164281 ,  2.99056061,  2.98409374,  3.0250506 ,\n",
        "        2.95068156,  3.04121778,  2.93667001,  2.93559219,  2.97439343,\n",
        "        2.99594967,  3.00457217,  2.99271623,  2.9625375 ,  2.97439343,\n",
        "        2.97547124,  2.98193811,  2.98517155,  2.97008218,  2.953915  ,\n",
        "        2.93020313,  3.03367309,  2.99594967,  2.97978249,  3.00241654,\n",
        "        2.96900437,  3.02828403,  2.96361531,  2.94205907,  2.9625375 ,\n",
        "        3.01211685,  2.97762686,  2.96469312,  3.00996123,  2.96038187,\n",
        "        3.07139652,  2.92481407,  2.99379405,  2.95930406,  2.95175937,\n",
        "        2.97439343,  3.0519959 ,  3.00457217,  2.93559219,  2.98301593,\n",
        "        2.94205907,  3.00996123,  3.08864151,  2.99487186,  2.93559219,\n",
        "        3.01750591,  2.95499281,  3.02828403,  3.04121778,  3.06492964,\n",
        "        2.96792656,  2.92373626,  3.04984027,  3.04552903,  2.99056061,\n",
        "        2.96792656,  3.00457217,  3.02073935,  3.01427248,  3.11019775,\n",
        "        3.00133873,  3.05846277,  2.97870468,  2.9894828 ,  2.95283719,\n",
        "        3.00457217,  3.01750591,  3.08109682,  3.0347509 ,  3.02397278,\n",
        "        2.99163842,  2.93882563,  2.99810529,  2.93774782,  3.0164281 ,\n",
        "        3.09618619,  2.93020313,  2.97870468,  2.94637031,  3.0433734 ,\n",
        "        3.05630715,  2.9183472 ,  3.04984027,  3.11127556,  3.06169621,\n",
        "        3.01427248,  3.04768465,  3.01211685,  3.00564998,  3.04660684,\n",
        "        3.12852056,  3.05954058,  3.09295276,  3.01535029,  2.99487186,\n",
        "        3.0703187 ,  2.99594967,  2.99918311,  2.95607062,  3.02073935,\n",
        "        3.06061839,  2.9894828 ,  2.96684874,  2.93451438,  3.0433734 ,\n",
        "        2.93774782,  3.06385183,  3.03043966,  3.07247433,  2.9808603 ,\n",
        "        2.93343657,  2.93990344,  3.06924089,  3.05954058,  2.97331562,\n",
        "        2.97978249,  2.953915  ,  3.07139652,  2.92050282,  3.00996123,\n",
        "        2.96145968,  3.01966154,  3.02720622,  2.99163842,  2.98409374,\n",
        "        3.00457217,  2.95714844,  3.00564998,  2.96469312,  3.02397278,\n",
        "        2.98193811,  3.04229559,  2.9452925 ,  2.99702748,  2.93343657,\n",
        "        2.98732717,  2.95822625,  2.96900437,  2.99487186,  2.94098125,\n",
        "        3.0250506 ,  2.953915  ,  3.00349435,  3.05415152,  2.95499281,\n",
        "        2.94205907,  2.94421469,  3.00133873,  3.03043966,  3.00672779,\n",
        "        3.04660684,  3.02612841,  3.04552903,  3.04013997,  2.98193811,\n",
        "        3.01427248,  3.03690653,  3.00349435,  2.92912532,  2.96684874,\n",
        "        3.09403057,  3.03582872,  3.03151747,  2.93451438,  2.95822625,\n",
        "        2.96038187,  2.96145968,  2.97439343,  2.97654905,  2.93343657,\n",
        "        3.03259528,  2.953915  ,  2.97008218,  2.98732717,  2.98409374,\n",
        "        3.07139652,  2.96900437,  3.00026092,  3.03690653,  3.03906215,\n",
        "        2.98517155,  3.00672779,  2.93128095,  2.99056061,  3.01966154,\n",
        "        3.07462995,  2.99163842,  2.97654905,  2.953915  ,  3.05415152,\n",
        "        2.96469312,  2.96792656,  2.9183472 ,  3.04768465,  3.06061839,\n",
        "        3.05630715,  3.09834182,  3.05954058,  3.03367309,  3.05630715,\n",
        "        2.93451438,  3.16085492,  2.94421469,  2.97547124,  2.96361531,\n",
        "        2.99163842,  2.95822625,  3.12744274,  2.92265845,  3.02828403,\n",
        "        2.97439343,  2.93774782,  2.99918311,  3.08864151,  2.96792656,\n",
        "        3.03043966,  3.00888341,  3.00672779,  2.97978249,  2.97547124,\n",
        "        2.98840499,  3.02612841,  2.94098125,  2.96361531,  2.97547124,\n",
        "        3.01858372,  2.9097247 ,  2.99487186,  2.94744813,  2.97762686,\n",
        "        2.97978249,  2.9452925 ,  2.99379405,  2.98301593,  3.05522933,\n",
        "        3.07678558,  3.01858372,  2.97762686,  3.09295276,  2.96900437,\n",
        "        3.03906215,  2.93882563,  2.99163842,  2.9625375 ,  2.98624936,\n",
        "        3.07355214,  2.97547124,  3.03367309,  3.0347509 ,  2.96145968,\n",
        "        2.96038187,  2.99810529,  2.96900437,  2.953915  ,  3.00133873,\n",
        "        3.06492964,  3.04013997,  2.97654905,  3.05307371,  3.04013997,\n",
        "        2.97978249,  3.01427248,  2.96577093,  3.00672779,  3.00457217,\n",
        "        3.03043966,  3.0519959 ,  3.06169621,  2.99271623,  3.00564998,\n",
        "        3.05415152,  2.99163842,  3.114509  ,  3.06708527,  2.94421469,\n",
        "        3.03043966,  2.97439343,  3.10480869,  2.99379405,  2.95283719,\n",
        "        2.95175937,  3.08540807,  2.98732717,  2.96684874,  2.99271623,\n",
        "        2.98624936,  3.05954058,  3.02181716,  3.01858372,  2.98840499,\n",
        "        2.99702748,  3.01750591,  2.97008218,  2.97978249,  2.94205907,\n",
        "        3.06061839,  2.95930406,  2.92804751,  2.94421469,  3.04552903,\n",
        "        2.99056061,  2.96684874,  3.04984027,  2.91511376,  3.00564998,\n",
        "        3.02073935,  2.99271623,  3.10480869,  2.97547124,  2.99379405,\n",
        "        2.96145968,  3.13714305,  3.17055523,  3.00241654,  3.03798434,\n",
        "        2.94205907,  2.99056061,  2.97654905,  2.9894828 ,  2.96577093,\n",
        "        2.99702748,  3.06816308,  3.00996123,  3.00241654,  2.96145968,\n",
        "        3.02612841,  2.91080252,  3.06061839,  2.97115999,  2.97008218,\n",
        "        2.9808603 ,  2.95930406,  3.01535029,  2.97547124,  3.00133873,\n",
        "        3.06924089,  2.93020313,  2.97008218,  2.953915  ,  3.01858372,\n",
        "        3.00133873,  2.96900437,  2.99594967,  3.01535029,  3.02289497,\n",
        "        3.04552903,  2.95499281,  2.96684874,  3.097264  ,  3.05415152,\n",
        "        3.12313149,  2.91942501,  3.09295276,  2.94960375,  2.98840499,\n",
        "        2.9722378 ,  3.05846277,  3.08540807,  2.99918311,  3.00672779,\n",
        "        3.00888341,  3.08001901,  3.07139652,  2.97547124,  2.9452925 ,\n",
        "        2.96361531,  3.0164281 ])"
       ]
      }
     ],
     "prompt_number": 18
    },
    {
     "cell_type": "heading",
     "level": 2,
     "metadata": {},
     "source": [
      "Plot the Resulting Models"
     ]
    },
    {
     "cell_type": "code",
     "collapsed": false,
     "input": [
      "%matplotlib inline\n",
      "import matplotlib.pyplot as plt"
     ],
     "language": "python",
     "metadata": {},
     "outputs": [],
     "prompt_number": 11
    },
    {
     "cell_type": "code",
     "collapsed": false,
     "input": [],
     "language": "python",
     "metadata": {},
     "outputs": [
      {
       "ename": "TypeError",
       "evalue": "data type not understood",
       "output_type": "pyerr",
       "traceback": [
        "\u001b[0;31m---------------------------------------------------------------------------\u001b[0m\n\u001b[0;31mTypeError\u001b[0m                                 Traceback (most recent call last)",
        "\u001b[0;32m<ipython-input-10-f9867992d916>\u001b[0m in \u001b[0;36m<module>\u001b[0;34m()\u001b[0m\n\u001b[0;32m----> 1\u001b[0;31m \u001b[0mnp\u001b[0m\u001b[0;34m.\u001b[0m\u001b[0marray\u001b[0m\u001b[0;34m(\u001b[0m\u001b[0;36m0\u001b[0m\u001b[0;34m,\u001b[0m \u001b[0;36m1\u001b[0m\u001b[0;34m)\u001b[0m\u001b[0;34m\u001b[0m\u001b[0m\n\u001b[0m",
        "\u001b[0;31mTypeError\u001b[0m: data type not understood"
       ]
      }
     ],
     "prompt_number": 10
    },
    {
     "cell_type": "code",
     "collapsed": false,
     "input": [
      "import pylab as pl\n",
      "\n",
      "pl.scatter(diabetes_X_test, diabetes_y_test,  color='black')\n",
      "pl.plot(diabetes_X_test, treegp.predict(diabetes_X_test), color='blue',\n",
      "        linewidth=3)\n",
      "\n",
      "pl.xticks(())\n",
      "pl.yticks(())\n",
      "\n",
      "pl.show()"
     ],
     "language": "python",
     "metadata": {},
     "outputs": [
      {
       "metadata": {},
       "output_type": "display_data",
       "png": "[encoded data removed]",
       "text": [
        "<matplotlib.figure.Figure at 0x1142b7390>"
       ]
      }
     ],
     "prompt_number": 12
    },
    {
     "cell_type": "code",
     "collapsed": false,
     "input": [
      "x"
     ],
     "language": "python",
     "metadata": {},
     "outputs": []
    }
   ],
   "metadata": {}
  }
 ]
}